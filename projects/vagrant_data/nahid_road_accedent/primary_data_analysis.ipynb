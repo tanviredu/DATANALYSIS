{
 "cells": [
  {
   "cell_type": "markdown",
   "metadata": {},
   "source": [
    "# <center>primary data analysis before applying ML <center>\n",
    "<table>\n",
    "    <thead>\n",
    "        <th>Driver- 01</th>\n",
    "        <th>Environment-10</th>\n",
    "        <th>Vehicles-11</th>\n",
    "    </thead>\n",
    "    <tbody>\n",
    "        <tr>\n",
    "            <td>Drug Addiction-01000</td>\n",
    "            <td>Road Condition-10000</td>\n",
    "            <td>Break failure-11000</td>\n",
    "        </tr>\n",
    "        <tr>\n",
    "            <td>Unauthorized-01001</td>\n",
    "            <td>Unconcerned Pedestrians-10001</td>\n",
    "            <td>Vehicle conditions-11001</td>\n",
    "         </tr>\n",
    "        <tr>\n",
    "            <td>Sickness-01010</td>\n",
    "            <td>Environmental facts(fog,rain,flood,strom)-10010</td>\n",
    "            <td>Light & Wipers- 11010</td>\n",
    "        </tr>\n",
    "        <tr>\n",
    "            <td>Mental condition-01011</td>\n",
    "            <td>Wrong signal-10011</td>\n",
    "            <td>Bald Tires-11011</td>\n",
    "          </tr>\n",
    "\n",
    "<tr><td>Overtaking-01100</td></tr>\n",
    "<tr><td>Law Break-01101</td></tr>\n",
    "    </tbody>\n",
    "</table>\n",
    "\n"
   ]
  },
  {
   "cell_type": "markdown",
   "metadata": {},
   "source": [
    "#### EDA by creating a dictonary of code with a key value pair"
   ]
  },
  {
   "cell_type": "code",
   "execution_count": 1,
   "metadata": {},
   "outputs": [],
   "source": [
    "#importing libraries\n",
    "import pandas as pd\n",
    "import matplotlib.pyplot as plt"
   ]
  },
  {
   "cell_type": "code",
   "execution_count": 2,
   "metadata": {},
   "outputs": [],
   "source": [
    "# import the csv file with the dataframe\n",
    "df = pd.read_csv('data_revised.csv')"
   ]
  },
  {
   "cell_type": "code",
   "execution_count": 3,
   "metadata": {},
   "outputs": [
    {
     "data": {
      "text/html": [
       "<div>\n",
       "<style scoped>\n",
       "    .dataframe tbody tr th:only-of-type {\n",
       "        vertical-align: middle;\n",
       "    }\n",
       "\n",
       "    .dataframe tbody tr th {\n",
       "        vertical-align: top;\n",
       "    }\n",
       "\n",
       "    .dataframe thead th {\n",
       "        text-align: right;\n",
       "    }\n",
       "</style>\n",
       "<table border=\"1\" class=\"dataframe\">\n",
       "  <thead>\n",
       "    <tr style=\"text-align: right;\">\n",
       "      <th></th>\n",
       "      <th>Date</th>\n",
       "      <th>Spot</th>\n",
       "      <th>Injured</th>\n",
       "      <th>Death</th>\n",
       "      <th>How</th>\n",
       "      <th>Fault</th>\n",
       "      <th>Weight</th>\n",
       "      <th>Vehicle</th>\n",
       "      <th>Environment</th>\n",
       "    </tr>\n",
       "  </thead>\n",
       "  <tbody>\n",
       "    <tr>\n",
       "      <th>0</th>\n",
       "      <td>01.05.18</td>\n",
       "      <td>Hatirjheel, Dhaka</td>\n",
       "      <td>0</td>\n",
       "      <td>2</td>\n",
       "      <td>Motorcycle skidded off the road after hitting ...</td>\n",
       "      <td>10000</td>\n",
       "      <td>0.50</td>\n",
       "      <td>Motorbike</td>\n",
       "      <td>NaN</td>\n",
       "    </tr>\n",
       "    <tr>\n",
       "      <th>1</th>\n",
       "      <td>28.06.17</td>\n",
       "      <td>Kalapani,Guimara, Khagrachari</td>\n",
       "      <td>10</td>\n",
       "      <td>3</td>\n",
       "      <td>After skidded off the road the bus hit the tree.</td>\n",
       "      <td>10000</td>\n",
       "      <td>0.50</td>\n",
       "      <td>Bus</td>\n",
       "      <td>NaN</td>\n",
       "    </tr>\n",
       "    <tr>\n",
       "      <th>2</th>\n",
       "      <td>23.02.18</td>\n",
       "      <td>Mymensingh road</td>\n",
       "      <td>25</td>\n",
       "      <td>4</td>\n",
       "      <td>bus felt into Roadside ditch</td>\n",
       "      <td>10001</td>\n",
       "      <td>0.17</td>\n",
       "      <td>Bus</td>\n",
       "      <td>NaN</td>\n",
       "    </tr>\n",
       "    <tr>\n",
       "      <th>3</th>\n",
       "      <td>07.02.18</td>\n",
       "      <td>Sunamganj pagla bazar</td>\n",
       "      <td>0</td>\n",
       "      <td>4</td>\n",
       "      <td>bus and private car collision</td>\n",
       "      <td>10000</td>\n",
       "      <td>0.50</td>\n",
       "      <td>Bus and Private car</td>\n",
       "      <td>NaN</td>\n",
       "    </tr>\n",
       "    <tr>\n",
       "      <th>4</th>\n",
       "      <td>18.12.18</td>\n",
       "      <td>Gazipur sarak</td>\n",
       "      <td>2</td>\n",
       "      <td>1</td>\n",
       "      <td>bus thrush rickshaw</td>\n",
       "      <td>10010</td>\n",
       "      <td>0.33</td>\n",
       "      <td>Bus and Rickshaw</td>\n",
       "      <td>NaN</td>\n",
       "    </tr>\n",
       "    <tr>\n",
       "      <th>5</th>\n",
       "      <td>11.12.17</td>\n",
       "      <td>Daudkandi, Comilla</td>\n",
       "      <td>6</td>\n",
       "      <td>4</td>\n",
       "      <td>Bus hit a tree beside Dhaka-Chittagong highway</td>\n",
       "      <td>10010</td>\n",
       "      <td>0.33</td>\n",
       "      <td>Bus</td>\n",
       "      <td>NaN</td>\n",
       "    </tr>\n",
       "    <tr>\n",
       "      <th>6</th>\n",
       "      <td>04.01.19</td>\n",
       "      <td>Asulia</td>\n",
       "      <td>3</td>\n",
       "      <td>2</td>\n",
       "      <td>loaded truck get over a Rickshaw</td>\n",
       "      <td>1001</td>\n",
       "      <td>0.25</td>\n",
       "      <td>Truck and Rickshaw</td>\n",
       "      <td>Driver</td>\n",
       "    </tr>\n",
       "    <tr>\n",
       "      <th>7</th>\n",
       "      <td>20.12.18</td>\n",
       "      <td>Comilla, chandina</td>\n",
       "      <td>6</td>\n",
       "      <td>3</td>\n",
       "      <td>microbus lose control</td>\n",
       "      <td>1000</td>\n",
       "      <td>0.06</td>\n",
       "      <td>Micribus</td>\n",
       "      <td>NaN</td>\n",
       "    </tr>\n",
       "    <tr>\n",
       "      <th>8</th>\n",
       "      <td>06.01.19</td>\n",
       "      <td>sarkira bangaler mor</td>\n",
       "      <td>2</td>\n",
       "      <td>1</td>\n",
       "      <td>truck get over on the passer by</td>\n",
       "      <td>1001</td>\n",
       "      <td>0.25</td>\n",
       "      <td>Truck</td>\n",
       "      <td>NaN</td>\n",
       "    </tr>\n",
       "    <tr>\n",
       "      <th>9</th>\n",
       "      <td>19.12.18</td>\n",
       "      <td>Chittagong KEPZ road</td>\n",
       "      <td>40</td>\n",
       "      <td>3</td>\n",
       "      <td>driver loses control on steering</td>\n",
       "      <td>1001</td>\n",
       "      <td>0.25</td>\n",
       "      <td>Truck</td>\n",
       "      <td>NaN</td>\n",
       "    </tr>\n",
       "    <tr>\n",
       "      <th>10</th>\n",
       "      <td>27.02.18</td>\n",
       "      <td>Kashiani, Gopalgonj</td>\n",
       "      <td>14</td>\n",
       "      <td>4</td>\n",
       "      <td>A Dhaka bound bus collided head-on with a truck</td>\n",
       "      <td>1001</td>\n",
       "      <td>0.25</td>\n",
       "      <td>Bus &amp; Truk</td>\n",
       "      <td>NaN</td>\n",
       "    </tr>\n",
       "    <tr>\n",
       "      <th>11</th>\n",
       "      <td>04.01.19</td>\n",
       "      <td>Tangail</td>\n",
       "      <td>0</td>\n",
       "      <td>1</td>\n",
       "      <td>Bus get over a motorcycle</td>\n",
       "      <td>1011</td>\n",
       "      <td>0.18</td>\n",
       "      <td>Bus and motocycle</td>\n",
       "      <td>NaN</td>\n",
       "    </tr>\n",
       "    <tr>\n",
       "      <th>12</th>\n",
       "      <td>03.01.19</td>\n",
       "      <td>Bogura,serpur</td>\n",
       "      <td>0</td>\n",
       "      <td>1</td>\n",
       "      <td>Bus thrust a trolley</td>\n",
       "      <td>1011</td>\n",
       "      <td>0.18</td>\n",
       "      <td>Bus and Trolley</td>\n",
       "      <td>NaN</td>\n",
       "    </tr>\n",
       "    <tr>\n",
       "      <th>13</th>\n",
       "      <td>26.12.18</td>\n",
       "      <td>Nilfamari,demar,sarok</td>\n",
       "      <td>0</td>\n",
       "      <td>2</td>\n",
       "      <td>bus thrust</td>\n",
       "      <td>1011</td>\n",
       "      <td>0.18</td>\n",
       "      <td>Bus</td>\n",
       "      <td>NaN</td>\n",
       "    </tr>\n",
       "    <tr>\n",
       "      <th>14</th>\n",
       "      <td>27.01.18</td>\n",
       "      <td>Patiya, Chittagong</td>\n",
       "      <td>0</td>\n",
       "      <td>2</td>\n",
       "      <td>NaN</td>\n",
       "      <td>1100</td>\n",
       "      <td>0.06</td>\n",
       "      <td>Bus &amp; Motorcycle</td>\n",
       "      <td>NaN</td>\n",
       "    </tr>\n",
       "    <tr>\n",
       "      <th>15</th>\n",
       "      <td>07.01.19</td>\n",
       "      <td>Netrokona sadar Upazila lokkigong</td>\n",
       "      <td>0</td>\n",
       "      <td>2</td>\n",
       "      <td>Bus and cng Face to face clash</td>\n",
       "      <td>1101</td>\n",
       "      <td>0.43</td>\n",
       "      <td>Bus and Cng</td>\n",
       "      <td>NaN</td>\n",
       "    </tr>\n",
       "    <tr>\n",
       "      <th>16</th>\n",
       "      <td>04.01.19</td>\n",
       "      <td>Patuakhali dosmina sarok</td>\n",
       "      <td>0</td>\n",
       "      <td>1</td>\n",
       "      <td>bus and trucktor accident</td>\n",
       "      <td>1101</td>\n",
       "      <td>0.43</td>\n",
       "      <td>Bus and Truck</td>\n",
       "      <td>NaN</td>\n",
       "    </tr>\n",
       "    <tr>\n",
       "      <th>17</th>\n",
       "      <td>16.02.18</td>\n",
       "      <td>Cox'sBazar marine drive</td>\n",
       "      <td>0</td>\n",
       "      <td>1</td>\n",
       "      <td>noah van hit an easy-bike</td>\n",
       "      <td>1101</td>\n",
       "      <td>0.43</td>\n",
       "      <td>Van and bike</td>\n",
       "      <td>NaN</td>\n",
       "    </tr>\n",
       "    <tr>\n",
       "      <th>18</th>\n",
       "      <td>20.05.18</td>\n",
       "      <td>Malihata,Brahmanbaria</td>\n",
       "      <td>0</td>\n",
       "      <td>3</td>\n",
       "      <td>A speeding car hit the autorickshaw face to face</td>\n",
       "      <td>1101</td>\n",
       "      <td>0.43</td>\n",
       "      <td>Car &amp; Auto rickshaw</td>\n",
       "      <td>NaN</td>\n",
       "    </tr>\n",
       "    <tr>\n",
       "      <th>19</th>\n",
       "      <td>26.09.17</td>\n",
       "      <td>Bhobokdia, Nagarkandha, Faridpur</td>\n",
       "      <td>15</td>\n",
       "      <td>3</td>\n",
       "      <td>Bus skidded off the road  and run over the ped...</td>\n",
       "      <td>1101</td>\n",
       "      <td>0.43</td>\n",
       "      <td>Bus</td>\n",
       "      <td>NaN</td>\n",
       "    </tr>\n",
       "    <tr>\n",
       "      <th>20</th>\n",
       "      <td>02.01.19</td>\n",
       "      <td>Hobigong</td>\n",
       "      <td>1</td>\n",
       "      <td>1</td>\n",
       "      <td>motorcycle and truck collision</td>\n",
       "      <td>1101</td>\n",
       "      <td>0.43</td>\n",
       "      <td>Motorcycle and Truck</td>\n",
       "      <td>NaN</td>\n",
       "    </tr>\n",
       "    <tr>\n",
       "      <th>21</th>\n",
       "      <td>03.03.18</td>\n",
       "      <td>Chokoria,Coxs Bazar</td>\n",
       "      <td>9</td>\n",
       "      <td>4</td>\n",
       "      <td>A microbus collided with another oncoming micr...</td>\n",
       "      <td>1101</td>\n",
       "      <td>0.43</td>\n",
       "      <td>2 Microbuses</td>\n",
       "      <td>NaN</td>\n",
       "    </tr>\n",
       "    <tr>\n",
       "      <th>22</th>\n",
       "      <td>19.12.18</td>\n",
       "      <td>hobigonz</td>\n",
       "      <td>5</td>\n",
       "      <td>1</td>\n",
       "      <td>pickup accident</td>\n",
       "      <td>11000</td>\n",
       "      <td>0.75</td>\n",
       "      <td>Pickup</td>\n",
       "      <td>Vehicle</td>\n",
       "    </tr>\n",
       "    <tr>\n",
       "      <th>23</th>\n",
       "      <td>14.09.18</td>\n",
       "      <td>Dinajpur-rangpur Highway</td>\n",
       "      <td>11</td>\n",
       "      <td>2</td>\n",
       "      <td>bus collided  with another bus</td>\n",
       "      <td>11000</td>\n",
       "      <td>0.75</td>\n",
       "      <td>two Bus</td>\n",
       "      <td>NaN</td>\n",
       "    </tr>\n",
       "    <tr>\n",
       "      <th>24</th>\n",
       "      <td></td>\n",
       "      <td>Rangpur Central Bus terminal</td>\n",
       "      <td>11</td>\n",
       "      <td>2</td>\n",
       "      <td>NaN</td>\n",
       "      <td>11000</td>\n",
       "      <td>0.75</td>\n",
       "      <td>2 Buses</td>\n",
       "      <td>NaN</td>\n",
       "    </tr>\n",
       "    <tr>\n",
       "      <th>25</th>\n",
       "      <td>31.01.18</td>\n",
       "      <td>Bedgram, Gopalganj</td>\n",
       "      <td>25</td>\n",
       "      <td>3</td>\n",
       "      <td>The bus plunged into roadside ditch after the ...</td>\n",
       "      <td>11001</td>\n",
       "      <td>0.25</td>\n",
       "      <td>Bus</td>\n",
       "      <td>NaN</td>\n",
       "    </tr>\n",
       "  </tbody>\n",
       "</table>\n",
       "</div>"
      ],
      "text/plain": [
       "        Date                                Spot  Injured  Death  \\\n",
       "0   01.05.18                   Hatirjheel, Dhaka        0      2   \n",
       "1   28.06.17       Kalapani,Guimara, Khagrachari       10      3   \n",
       "2   23.02.18                    Mymensingh road        25      4   \n",
       "3   07.02.18              Sunamganj pagla bazar         0      4   \n",
       "4   18.12.18                      Gazipur sarak         2      1   \n",
       "5   11.12.17                  Daudkandi, Comilla        6      4   \n",
       "6   04.01.19                              Asulia        3      2   \n",
       "7   20.12.18                   Comilla, chandina        6      3   \n",
       "8   06.01.19                sarkira bangaler mor        2      1   \n",
       "9   19.12.18               Chittagong KEPZ road        40      3   \n",
       "10  27.02.18                 Kashiani, Gopalgonj       14      4   \n",
       "11  04.01.19                            Tangail         0      1   \n",
       "12  03.01.19                       Bogura,serpur        0      1   \n",
       "13  26.12.18               Nilfamari,demar,sarok        0      2   \n",
       "14  27.01.18                  Patiya, Chittagong        0      2   \n",
       "15  07.01.19  Netrokona sadar Upazila lokkigong         0      2   \n",
       "16  04.01.19           Patuakhali dosmina sarok         0      1   \n",
       "17  16.02.18         Cox'sBazar marine drive            0      1   \n",
       "18  20.05.18               Malihata,Brahmanbaria        0      3   \n",
       "19  26.09.17    Bhobokdia, Nagarkandha, Faridpur       15      3   \n",
       "20  02.01.19                            Hobigong        1      1   \n",
       "21  03.03.18                 Chokoria,Coxs Bazar        9      4   \n",
       "22  19.12.18                            hobigonz        5      1   \n",
       "23  14.09.18          Dinajpur-rangpur Highway         11      2   \n",
       "24                  Rangpur Central Bus terminal       11      2   \n",
       "25  31.01.18                  Bedgram, Gopalganj       25      3   \n",
       "\n",
       "                                                  How  Fault  Weight  \\\n",
       "0   Motorcycle skidded off the road after hitting ...  10000    0.50   \n",
       "1    After skidded off the road the bus hit the tree.  10000    0.50   \n",
       "2                     bus felt into Roadside ditch     10001    0.17   \n",
       "3                     bus and private car collision    10000    0.50   \n",
       "4                               bus thrush rickshaw    10010    0.33   \n",
       "5     Bus hit a tree beside Dhaka-Chittagong highway   10010    0.33   \n",
       "6                   loaded truck get over a Rickshaw    1001    0.25   \n",
       "7                              microbus lose control    1000    0.06   \n",
       "8                     truck get over on the passer by   1001    0.25   \n",
       "9                  driver loses control on steering     1001    0.25   \n",
       "10    A Dhaka bound bus collided head-on with a truck   1001    0.25   \n",
       "11                          Bus get over a motorcycle   1011    0.18   \n",
       "12                             Bus thrust a trolley     1011    0.18   \n",
       "13                                        bus thrust    1011    0.18   \n",
       "14                                                NaN   1100    0.06   \n",
       "15                     Bus and cng Face to face clash   1101    0.43   \n",
       "16                         bus and trucktor accident    1101    0.43   \n",
       "17                        noah van hit an easy-bike     1101    0.43   \n",
       "18   A speeding car hit the autorickshaw face to face   1101    0.43   \n",
       "19  Bus skidded off the road  and run over the ped...   1101    0.43   \n",
       "20                   motorcycle and truck collision     1101    0.43   \n",
       "21  A microbus collided with another oncoming micr...   1101    0.43   \n",
       "22                                  pickup accident    11000    0.75   \n",
       "23                    bus collided  with another bus   11000    0.75   \n",
       "24                                                NaN  11000    0.75   \n",
       "25  The bus plunged into roadside ditch after the ...  11001    0.25   \n",
       "\n",
       "                 Vehicle Environment  \n",
       "0              Motorbike         NaN  \n",
       "1                    Bus         NaN  \n",
       "2                    Bus         NaN  \n",
       "3    Bus and Private car         NaN  \n",
       "4       Bus and Rickshaw         NaN  \n",
       "5                    Bus         NaN  \n",
       "6     Truck and Rickshaw      Driver  \n",
       "7               Micribus         NaN  \n",
       "8                  Truck         NaN  \n",
       "9                  Truck         NaN  \n",
       "10            Bus & Truk         NaN  \n",
       "11     Bus and motocycle         NaN  \n",
       "12       Bus and Trolley         NaN  \n",
       "13                   Bus         NaN  \n",
       "14      Bus & Motorcycle         NaN  \n",
       "15           Bus and Cng         NaN  \n",
       "16         Bus and Truck         NaN  \n",
       "17          Van and bike         NaN  \n",
       "18   Car & Auto rickshaw         NaN  \n",
       "19                   Bus         NaN  \n",
       "20  Motorcycle and Truck         NaN  \n",
       "21          2 Microbuses         NaN  \n",
       "22                Pickup     Vehicle  \n",
       "23               two Bus         NaN  \n",
       "24               2 Buses         NaN  \n",
       "25                   Bus         NaN  "
      ]
     },
     "execution_count": 3,
     "metadata": {},
     "output_type": "execute_result"
    }
   ],
   "source": [
    "df"
   ]
  },
  {
   "cell_type": "code",
   "execution_count": 4,
   "metadata": {},
   "outputs": [
    {
     "data": {
      "text/plain": [
       "(26, 9)"
      ]
     },
     "execution_count": 4,
     "metadata": {},
     "output_type": "execute_result"
    }
   ],
   "source": [
    "## finding the shape of the data\n",
    "df.shape"
   ]
  },
  {
   "cell_type": "markdown",
   "metadata": {},
   "source": [
    "## <center>EDA starts here </center>"
   ]
  },
  {
   "cell_type": "code",
   "execution_count": 5,
   "metadata": {},
   "outputs": [
    {
     "name": "stdout",
     "output_type": "stream",
     "text": [
      "60\n"
     ]
    }
   ],
   "source": [
    "total_death=df.Death.sum()\n",
    "print (total_death)"
   ]
  },
  {
   "cell_type": "code",
   "execution_count": 6,
   "metadata": {},
   "outputs": [
    {
     "name": "stdout",
     "output_type": "stream",
     "text": [
      "185\n"
     ]
    }
   ],
   "source": [
    "total_injured = df.Injured.sum()\n",
    "print (total_injured)"
   ]
  },
  {
   "cell_type": "code",
   "execution_count": 7,
   "metadata": {},
   "outputs": [],
   "source": [
    "## high injured area/based on the 10 as a decision\n",
    "## slice the data sets and then slice it again\n",
    "## hajardous position data slice\n",
    "df_high_injured = df[df.Injured>10]"
   ]
  },
  {
   "cell_type": "code",
   "execution_count": 8,
   "metadata": {},
   "outputs": [
    {
     "data": {
      "text/html": [
       "<div>\n",
       "<style scoped>\n",
       "    .dataframe tbody tr th:only-of-type {\n",
       "        vertical-align: middle;\n",
       "    }\n",
       "\n",
       "    .dataframe tbody tr th {\n",
       "        vertical-align: top;\n",
       "    }\n",
       "\n",
       "    .dataframe thead th {\n",
       "        text-align: right;\n",
       "    }\n",
       "</style>\n",
       "<table border=\"1\" class=\"dataframe\">\n",
       "  <thead>\n",
       "    <tr style=\"text-align: right;\">\n",
       "      <th></th>\n",
       "      <th>Date</th>\n",
       "      <th>Spot</th>\n",
       "      <th>Injured</th>\n",
       "      <th>Death</th>\n",
       "      <th>How</th>\n",
       "      <th>Fault</th>\n",
       "      <th>Weight</th>\n",
       "      <th>Vehicle</th>\n",
       "      <th>Environment</th>\n",
       "    </tr>\n",
       "  </thead>\n",
       "  <tbody>\n",
       "    <tr>\n",
       "      <th>2</th>\n",
       "      <td>23.02.18</td>\n",
       "      <td>Mymensingh road</td>\n",
       "      <td>25</td>\n",
       "      <td>4</td>\n",
       "      <td>bus felt into Roadside ditch</td>\n",
       "      <td>10001</td>\n",
       "      <td>0.17</td>\n",
       "      <td>Bus</td>\n",
       "      <td>NaN</td>\n",
       "    </tr>\n",
       "    <tr>\n",
       "      <th>9</th>\n",
       "      <td>19.12.18</td>\n",
       "      <td>Chittagong KEPZ road</td>\n",
       "      <td>40</td>\n",
       "      <td>3</td>\n",
       "      <td>driver loses control on steering</td>\n",
       "      <td>1001</td>\n",
       "      <td>0.25</td>\n",
       "      <td>Truck</td>\n",
       "      <td>NaN</td>\n",
       "    </tr>\n",
       "    <tr>\n",
       "      <th>10</th>\n",
       "      <td>27.02.18</td>\n",
       "      <td>Kashiani, Gopalgonj</td>\n",
       "      <td>14</td>\n",
       "      <td>4</td>\n",
       "      <td>A Dhaka bound bus collided head-on with a truck</td>\n",
       "      <td>1001</td>\n",
       "      <td>0.25</td>\n",
       "      <td>Bus &amp; Truk</td>\n",
       "      <td>NaN</td>\n",
       "    </tr>\n",
       "    <tr>\n",
       "      <th>19</th>\n",
       "      <td>26.09.17</td>\n",
       "      <td>Bhobokdia, Nagarkandha, Faridpur</td>\n",
       "      <td>15</td>\n",
       "      <td>3</td>\n",
       "      <td>Bus skidded off the road  and run over the ped...</td>\n",
       "      <td>1101</td>\n",
       "      <td>0.43</td>\n",
       "      <td>Bus</td>\n",
       "      <td>NaN</td>\n",
       "    </tr>\n",
       "    <tr>\n",
       "      <th>23</th>\n",
       "      <td>14.09.18</td>\n",
       "      <td>Dinajpur-rangpur Highway</td>\n",
       "      <td>11</td>\n",
       "      <td>2</td>\n",
       "      <td>bus collided  with another bus</td>\n",
       "      <td>11000</td>\n",
       "      <td>0.75</td>\n",
       "      <td>two Bus</td>\n",
       "      <td>NaN</td>\n",
       "    </tr>\n",
       "    <tr>\n",
       "      <th>24</th>\n",
       "      <td></td>\n",
       "      <td>Rangpur Central Bus terminal</td>\n",
       "      <td>11</td>\n",
       "      <td>2</td>\n",
       "      <td>NaN</td>\n",
       "      <td>11000</td>\n",
       "      <td>0.75</td>\n",
       "      <td>2 Buses</td>\n",
       "      <td>NaN</td>\n",
       "    </tr>\n",
       "    <tr>\n",
       "      <th>25</th>\n",
       "      <td>31.01.18</td>\n",
       "      <td>Bedgram, Gopalganj</td>\n",
       "      <td>25</td>\n",
       "      <td>3</td>\n",
       "      <td>The bus plunged into roadside ditch after the ...</td>\n",
       "      <td>11001</td>\n",
       "      <td>0.25</td>\n",
       "      <td>Bus</td>\n",
       "      <td>NaN</td>\n",
       "    </tr>\n",
       "  </tbody>\n",
       "</table>\n",
       "</div>"
      ],
      "text/plain": [
       "        Date                              Spot  Injured  Death  \\\n",
       "2   23.02.18                  Mymensingh road        25      4   \n",
       "9   19.12.18             Chittagong KEPZ road        40      3   \n",
       "10  27.02.18               Kashiani, Gopalgonj       14      4   \n",
       "19  26.09.17  Bhobokdia, Nagarkandha, Faridpur       15      3   \n",
       "23  14.09.18        Dinajpur-rangpur Highway         11      2   \n",
       "24                Rangpur Central Bus terminal       11      2   \n",
       "25  31.01.18                Bedgram, Gopalganj       25      3   \n",
       "\n",
       "                                                  How  Fault  Weight  \\\n",
       "2                     bus felt into Roadside ditch     10001    0.17   \n",
       "9                  driver loses control on steering     1001    0.25   \n",
       "10    A Dhaka bound bus collided head-on with a truck   1001    0.25   \n",
       "19  Bus skidded off the road  and run over the ped...   1101    0.43   \n",
       "23                    bus collided  with another bus   11000    0.75   \n",
       "24                                                NaN  11000    0.75   \n",
       "25  The bus plunged into roadside ditch after the ...  11001    0.25   \n",
       "\n",
       "       Vehicle Environment  \n",
       "2          Bus         NaN  \n",
       "9        Truck         NaN  \n",
       "10  Bus & Truk         NaN  \n",
       "19         Bus         NaN  \n",
       "23     two Bus         NaN  \n",
       "24     2 Buses         NaN  \n",
       "25         Bus         NaN  "
      ]
     },
     "execution_count": 8,
     "metadata": {},
     "output_type": "execute_result"
    }
   ],
   "source": [
    "df_high_injured"
   ]
  },
  {
   "cell_type": "markdown",
   "metadata": {},
   "source": [
    "## find the in death in the hazardous area and the injured"
   ]
  },
  {
   "cell_type": "code",
   "execution_count": 9,
   "metadata": {},
   "outputs": [],
   "source": [
    "\n",
    "hazared_death=df_high_injured.Death.sum()"
   ]
  },
  {
   "cell_type": "code",
   "execution_count": 10,
   "metadata": {},
   "outputs": [],
   "source": [
    "#total death parcentage in the hazardous area\n",
    "pct_death_in_hz_place=(hazared_death/total_death)*100"
   ]
  },
  {
   "cell_type": "code",
   "execution_count": 11,
   "metadata": {},
   "outputs": [],
   "source": [
    "pct_death_in_hz_place_plot=[pct_death_in_hz_place,(100-pct_death_in_hz_place)]"
   ]
  },
  {
   "cell_type": "code",
   "execution_count": 12,
   "metadata": {},
   "outputs": [
    {
     "data": {
      "text/plain": [
       "[35.0, 65.0]"
      ]
     },
     "execution_count": 12,
     "metadata": {},
     "output_type": "execute_result"
    }
   ],
   "source": [
    "pct_death_in_hz_place_plot"
   ]
  },
  {
   "cell_type": "code",
   "execution_count": 13,
   "metadata": {},
   "outputs": [
    {
     "data": {
      "text/plain": [
       "([<matplotlib.patches.Wedge at 0x7f86c8cdb390>,\n",
       "  <matplotlib.patches.Wedge at 0x7f86c8cdb860>],\n",
       " [Text(0.4993895680663529, 0.9801071672559597, ''),\n",
       "  Text(-0.49938965983060596, -0.9801071204997298, '')])"
      ]
     },
     "execution_count": 13,
     "metadata": {},
     "output_type": "execute_result"
    },
    {
     "data": {
      "image/png": "[encoded data removed]",
      "text/plain": [
       "<Figure size 432x288 with 1 Axes>"
      ]
     },
     "metadata": {},
     "output_type": "display_data"
    }
   ],
   "source": [
    "plt.legend\n",
    "plt.pie(pct_death_in_hz_place_plot)\n"
   ]
  },
  {
   "cell_type": "code",
   "execution_count": 14,
   "metadata": {},
   "outputs": [],
   "source": [
    "# injured parcentage in the hazardous \n",
    "## find the in death in the hazardous area and the injured\n",
    "hazared_area_injury=df_high_injured.Injured.sum()"
   ]
  },
  {
   "cell_type": "code",
   "execution_count": 15,
   "metadata": {},
   "outputs": [],
   "source": [
    "pct_injured_in_hz_place=(hazared_area_injury/total_injured)*100"
   ]
  },
  {
   "cell_type": "code",
   "execution_count": 16,
   "metadata": {},
   "outputs": [],
   "source": [
    "pct_injury_in_hz_place_plot=[pct_injured_in_hz_place,(100-pct_injured_in_hz_place)]"
   ]
  },
  {
   "cell_type": "code",
   "execution_count": 17,
   "metadata": {},
   "outputs": [
    {
     "data": {
      "text/plain": [
       "[76.21621621621621, 23.78378378378379]"
      ]
     },
     "execution_count": 17,
     "metadata": {},
     "output_type": "execute_result"
    }
   ],
   "source": [
    "pct_injury_in_hz_place_plot"
   ]
  },
  {
   "cell_type": "code",
   "execution_count": 18,
   "metadata": {},
   "outputs": [
    {
     "data": {
      "text/plain": [
       "([<matplotlib.patches.Wedge at 0x7f86c8cabbe0>,\n",
       "  <matplotlib.patches.Wedge at 0x7f86c8cb70f0>],\n",
       " [Text(-0.8069617857091624, 0.7475377424619308, ''),\n",
       "  Text(0.8069617507143946, -0.7475377802385373, '')])"
      ]
     },
     "execution_count": 18,
     "metadata": {},
     "output_type": "execute_result"
    },
    {
     "data": {
      "image/png": "[encoded data removed]",
      "text/plain": [
       "<Figure size 432x288 with 1 Axes>"
      ]
     },
     "metadata": {},
     "output_type": "display_data"
    }
   ],
   "source": [
    "plt.legend\n",
    "plt.pie(pct_injury_in_hz_place_plot)"
   ]
  },
  {
   "cell_type": "markdown",
   "metadata": {},
   "source": [
    "## injury happend more than the death in the hazardous place\n"
   ]
  },
  {
   "cell_type": "markdown",
   "metadata": {},
   "source": [
    "## find relation in aspect of the vehicel in the hazardous area"
   ]
  },
  {
   "cell_type": "code",
   "execution_count": 19,
   "metadata": {},
   "outputs": [
    {
     "name": "stdout",
     "output_type": "stream",
     "text": [
      "Big vcechical used\n",
      "Big vcechical used\n",
      "Big vcechical used\n",
      "Big vcechical used\n"
     ]
    }
   ],
   "source": [
    "Big_Vehical=['Bus','bus','Truck','truck']\n",
    "for item in df_high_injured.Vehicle:\n",
    "    if item in Big_Vehical:\n",
    "        print ('Big vcechical used')\n",
    "    "
   ]
  },
  {
   "cell_type": "markdown",
   "metadata": {},
   "source": [
    "## All are done with the Big Vehical\n",
    "\n",
    "\n",
    "## EDA on vechical based \n"
   ]
  },
  {
   "cell_type": "code",
   "execution_count": 20,
   "metadata": {},
   "outputs": [
    {
     "name": "stdout",
     "output_type": "stream",
     "text": [
      "Total rickshaw occurance = 3\n"
     ]
    }
   ],
   "source": [
    "## finding rickshaw involvment in the total case\n",
    "occurance=0\n",
    "trigger_word=['Rickshaw','rickshaw']\n",
    "for vehical in df.Vehicle:\n",
    "    for trigger in trigger_word:\n",
    "        if trigger in vehical:\n",
    "            occurance+=1\n",
    "rick=occurance\n",
    "print (\"Total rickshaw occurance = \"+str(rick))"
   ]
  },
  {
   "cell_type": "code",
   "execution_count": 21,
   "metadata": {},
   "outputs": [
    {
     "name": "stdout",
     "output_type": "stream",
     "text": [
      "Total Bus occurance = 20\n"
     ]
    }
   ],
   "source": [
    "# total bus occurance\n",
    "occurance=0\n",
    "trigger_word=['Bus','bus','Microbus','Van']\n",
    "for vehical in df.Vehicle:\n",
    "    for trigger in trigger_word:\n",
    "        if trigger in vehical:\n",
    "            occurance+=1\n",
    "bus=occurance\n",
    "print (\"Total Bus occurance = \"+str(bus))"
   ]
  },
  {
   "cell_type": "code",
   "execution_count": 22,
   "metadata": {},
   "outputs": [
    {
     "name": "stdout",
     "output_type": "stream",
     "text": [
      "Total truck occurance = 6\n"
     ]
    }
   ],
   "source": [
    "# total truck occurance \n",
    "occurance=0\n",
    "trigger_word=['Truck','truck','Trolley','trolley']\n",
    "for vehical in df.Vehicle:\n",
    "    for trigger in trigger_word:\n",
    "        if trigger in vehical:\n",
    "            occurance+=1\n",
    "truck=occurance\n",
    "print (\"Total truck occurance = \"+str(truck))"
   ]
  },
  {
   "cell_type": "code",
   "execution_count": 23,
   "metadata": {},
   "outputs": [
    {
     "name": "stdout",
     "output_type": "stream",
     "text": [
      "Total Car/Cng occurance = 3\n"
     ]
    }
   ],
   "source": [
    "## total car and the cng \n",
    "occurance=0\n",
    "trigger_word=['car','Car','cng','Cng','pickup','pickup']\n",
    "for vehical in df.Vehicle:\n",
    "    for trigger in trigger_word:\n",
    "        if trigger in vehical:\n",
    "            occurance+=1\n",
    "car=occurance\n",
    "print (\"Total Car/Cng occurance = \"+str(car))"
   ]
  },
  {
   "cell_type": "code",
   "execution_count": 24,
   "metadata": {},
   "outputs": [
    {
     "name": "stdout",
     "output_type": "stream",
     "text": [
      "Total Bike occurance = 5\n"
     ]
    }
   ],
   "source": [
    "## total Bike invilvent\n",
    "occurance=0\n",
    "trigger_word=['bike','Bike','cycle','Cycle']\n",
    "for vehical in df.Vehicle:\n",
    "    for trigger in trigger_word:\n",
    "        if trigger in vehical:\n",
    "            occurance+=1\n",
    "bike=occurance\n",
    "print (\"Total Bike occurance = \"+str(bike))"
   ]
  },
  {
   "cell_type": "code",
   "execution_count": 25,
   "metadata": {},
   "outputs": [],
   "source": [
    "## accident plotting based on the vehical\n",
    "y_axis=[rick,bus,truck,car,bike]\n",
    "x=['rickshaw','bus','truck','car','bike']\n",
    "\n"
   ]
  },
  {
   "cell_type": "code",
   "execution_count": 36,
   "metadata": {},
   "outputs": [
    {
     "data": {
      "image/png": "[encoded data removed]",
      "text/plain": [
       "<Figure size 432x288 with 1 Axes>"
      ]
     },
     "metadata": {
      "needs_background": "light"
     },
     "output_type": "display_data"
    }
   ],
   "source": [
    "plt.bar(x,y_axis)\n",
    "plt.grid()\n"
   ]
  },
  {
   "cell_type": "code",
   "execution_count": 37,
   "metadata": {},
   "outputs": [
    {
     "data": {
      "text/plain": [
       "([<matplotlib.patches.Wedge at 0x7f86c88754a8>,\n",
       "  <matplotlib.patches.Wedge at 0x7f86c8875978>,\n",
       "  <matplotlib.patches.Wedge at 0x7f86c8875e48>,\n",
       "  <matplotlib.patches.Wedge at 0x7f86c887f358>,\n",
       "  <matplotlib.patches.Wedge at 0x7f86c887f828>],\n",
       " [Text(1.0645062447830609, 0.27717585540206463, ''),\n",
       "  Text(-0.6540964066556546, 0.8843969079548846, ''),\n",
       "  Text(-0.32210525600029205, -1.0517833446375668, ''),\n",
       "  Text(0.49522389188006577, -0.9822185586269286, ''),\n",
       "  Text(1.002351220761435, -0.45309163558607135, '')])"
      ]
     },
     "execution_count": 37,
     "metadata": {},
     "output_type": "execute_result"
    },
    {
     "data": {
      "image/png": "[encoded data removed]",
      "text/plain": [
       "<Figure size 432x288 with 1 Axes>"
      ]
     },
     "metadata": {},
     "output_type": "display_data"
    }
   ],
   "source": [
    "plt.pie(y_axis)\n"
   ]
  },
  {
   "cell_type": "code",
   "execution_count": null,
   "metadata": {},
   "outputs": [],
   "source": []
  },
  {
   "cell_type": "markdown",
   "metadata": {},
   "source": [
    "# <center> EDA BASED ON FAULT </center>"
   ]
  },
  {
   "cell_type": "markdown",
   "metadata": {},
   "source": [
    "<table>\n",
    "    <thead>\n",
    "        <th>Driver- 01</th>\n",
    "        <th>Environment-10</th>\n",
    "        <th>Vehicles-11</th>\n",
    "    </thead>\n",
    "    <tbody>\n",
    "        <tr>\n",
    "            <td>Drug Addiction-01000</td>\n",
    "            <td>Road Condition-10000</td>\n",
    "            <td>Break failure-11000</td>\n",
    "        </tr>\n",
    "        <tr>\n",
    "            <td>Unauthorized-01001</td>\n",
    "            <td>Unconcerned Pedestrians-10001</td>\n",
    "            <td>Vehicle conditions-11001</td>\n",
    "         </tr>\n",
    "        <tr>\n",
    "            <td>Sickness-01010</td>\n",
    "            <td>Environmental facts(fog,rain,flood,strom)-10010</td>\n",
    "            <td>Light & Wipers- 11010</td>\n",
    "        </tr>\n",
    "        <tr>\n",
    "            <td>Mental condition-01011</td>\n",
    "            <td>Wrong signal-10011</td>\n",
    "            <td>Bald Tires-11011</td>\n",
    "          </tr>\n",
    "\n",
    "<tr><td>Overtaking-01100</td></tr>\n",
    "<tr><td>Law Break-01101</td></tr>\n",
    "    </tbody>\n",
    "</table>\n",
    "\n"
   ]
  },
  {
   "cell_type": "markdown",
   "metadata": {},
   "source": [
    "<h3>searching using first value</h3>\n",
    "<ul>\n",
    "<li>finding the accident using this</li>\n",
    "<li>if it starts with the 01 Drivers fault</li>\n",
    "<li>starting with 10 its Environment fault</li>\n",
    "<li>starting with the 11 Vehicles fault</li>\n",
    "</ul>\n",
    "<h2><center>OR</center></h2>\n",
    "<h3>Slicing the dataframe directly</h3>"
   ]
  },
  {
   "cell_type": "code",
   "execution_count": 38,
   "metadata": {},
   "outputs": [],
   "source": [
    "## Accident for Driver Drug addiction\n",
    "df_drug = df[df.Fault=='01000']"
   ]
  },
  {
   "cell_type": "code",
   "execution_count": 29,
   "metadata": {},
   "outputs": [],
   "source": [
    "\n",
    "#### this is not clear may be this binary can be added not like the unique code\n",
    "\n",
    "#df_drug = df[df.Fault=='01000']\n",
    "#df_unauth = df[df.Fault=='01001']\n",
    "#df_sick = df[df.Fault=='01010']\n",
    "#df_mc = df[df.Fault=='01011']\n",
    "#df_overtk = df[df.Fault=='01100']\n",
    "#df_lbrk= df[df.Fault=='01101']\n",
    "\n",
    "\n",
    "#df_rc = df[df.Fault=='10000']\n",
    "#df_up = df[df.Fault=='10001']\n",
    "#df_ef = df[df.Fault=='10010']\n",
    "#df_wg = df[df.Fault=='10011']\n",
    "\n",
    "#df_rc = df[df.Fault=='11000']\n",
    "#df_up = df[df.Fault=='11001']\n",
    "#df_ef = df[df.Fault=='11010']\n",
    "#df_wg = df[df.Fault=='11011']\n",
    "\n",
    "\n",
    "\n",
    "\n"
   ]
  },
  {
   "cell_type": "code",
   "execution_count": 39,
   "metadata": {},
   "outputs": [
    {
     "name": "stdout",
     "output_type": "stream",
     "text": [
      "10000\n",
      "10000\n",
      "10001\n",
      "10000\n",
      "10010\n",
      "10010\n",
      "1001\n",
      "1000\n",
      "1001\n",
      "1001\n",
      "1001\n",
      "1011\n",
      "1011\n",
      "1011\n"
     ]
    }
   ],
   "source": [
    "for item in df.Fault:\n",
    "    if str(item).startswith('10'):\n",
    "        print (item)\n",
    "## this may be the env fault but not sure"
   ]
  },
  {
   "cell_type": "code",
   "execution_count": 40,
   "metadata": {},
   "outputs": [],
   "source": [
    "for item in df.Fault:\n",
    "    if str(item).startswith('01'):\n",
    "        print (item)\n",
    "## this may be the env fault but not sure"
   ]
  },
  {
   "cell_type": "code",
   "execution_count": 41,
   "metadata": {},
   "outputs": [
    {
     "name": "stdout",
     "output_type": "stream",
     "text": [
      "1100\n",
      "1101\n",
      "1101\n",
      "1101\n",
      "1101\n",
      "1101\n",
      "1101\n",
      "1101\n",
      "11000\n",
      "11000\n",
      "11000\n",
      "11001\n"
     ]
    }
   ],
   "source": [
    "for item in df.Fault:\n",
    "    if str(item).startswith('11'):\n",
    "        print (item)\n",
    "## this may be the vehical fault but not sure"
   ]
  },
  {
   "cell_type": "code",
   "execution_count": null,
   "metadata": {},
   "outputs": [],
   "source": []
  }
 ],
 "metadata": {
  "kernelspec": {
   "display_name": "Python 3",
   "language": "python",
   "name": "python3"
  },
  "language_info": {
   "codemirror_mode": {
    "name": "ipython",
    "version": 3
   },
   "file_extension": ".py",
   "mimetype": "text/x-python",
   "name": "python",
   "nbconvert_exporter": "python",
   "pygments_lexer": "ipython3",
   "version": "3.6.7"
  }
 },
 "nbformat": 4,
 "nbformat_minor": 2
}
